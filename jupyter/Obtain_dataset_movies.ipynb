{
 "cells": [
  {
   "cell_type": "markdown",
   "metadata": {},
   "source": [
    "## 1. Load the dataset\n",
    "\n",
    "The dataset used in this example is [fine-food reviews](https://www.kaggle.com/snap/amazon-fine-food-reviews) from Amazon. The dataset contains a total of 568,454 food reviews Amazon users left up to October 2012. We will use a subset of this dataset, consisting of 1,000 most recent reviews for illustration purposes. The reviews are in English and tend to be positive or negative. Each review has a ProductId, UserId, Score, review title (Summary) and review body (Text).\n",
    "\n",
    "We will combine the review summary and review text into a single combined text. The model will encode this combined text and it will output a single vector embedding."
   ]
  },
  {
   "cell_type": "markdown",
   "metadata": {},
   "source": [
    "To run this notebook, you will need to install: pandas, openai, transformers, plotly, matplotlib, scikit-learn, torch (transformer dep), torchvision, and scipy.\n",
    "\n",
    "pip install pandas transformers plotly matplotlib scikit-learn torch torchvision scipy"
   ]
  },
  {
   "cell_type": "code",
   "execution_count": 1,
   "metadata": {},
   "outputs": [],
   "source": [
    "# imports\n",
    "import pandas as pd\n",
    "import tiktoken\n",
    "\n",
    "from openai.embeddings_utils import get_embedding\n"
   ]
  },
  {
   "cell_type": "markdown",
   "metadata": {},
   "source": [
    "## 2. Get embeddings and save them for future reuse"
   ]
  },
  {
   "cell_type": "code",
   "execution_count": 2,
   "metadata": {},
   "outputs": [],
   "source": [
    "# embedding model parameters\n",
    "embedding_model = \"text-embedding-ada-002\"\n",
    "embedding_encoding = \"cl100k_base\"  # this the encoding for text-embedding-ada-002\n",
    "max_tokens = 8000  # the maximum for text-embedding-ada-002 is 8191\n"
   ]
  },
  {
   "cell_type": "code",
   "execution_count": 3,
   "metadata": {},
   "outputs": [
    {
     "data": {
      "text/html": [
       "<div>\n",
       "<style scoped>\n",
       "    .dataframe tbody tr th:only-of-type {\n",
       "        vertical-align: middle;\n",
       "    }\n",
       "\n",
       "    .dataframe tbody tr th {\n",
       "        vertical-align: top;\n",
       "    }\n",
       "\n",
       "    .dataframe thead th {\n",
       "        text-align: right;\n",
       "    }\n",
       "</style>\n",
       "<table border=\"1\" class=\"dataframe\">\n",
       "  <thead>\n",
       "    <tr style=\"text-align: right;\">\n",
       "      <th></th>\n",
       "      <th>Title</th>\n",
       "      <th>combined</th>\n",
       "    </tr>\n",
       "  </thead>\n",
       "  <tbody>\n",
       "    <tr>\n",
       "      <th>876</th>\n",
       "      <td>The Sound of Music</td>\n",
       "      <td>Title: The Sound of Music; US Gross: 163214286.0</td>\n",
       "    </tr>\n",
       "    <tr>\n",
       "      <th>106</th>\n",
       "      <td>Bright Lights, Big City</td>\n",
       "      <td>Title: Bright Lights, Big City; US Gross: 1611...</td>\n",
       "    </tr>\n",
       "  </tbody>\n",
       "</table>\n",
       "</div>"
      ],
      "text/plain": [
       "                       Title   \n",
       "876       The Sound of Music  \\\n",
       "106  Bright Lights, Big City   \n",
       "\n",
       "                                              combined  \n",
       "876   Title: The Sound of Music; US Gross: 163214286.0  \n",
       "106  Title: Bright Lights, Big City; US Gross: 1611...  "
      ]
     },
     "execution_count": 3,
     "metadata": {},
     "output_type": "execute_result"
    }
   ],
   "source": [
    "# load & inspect dataset\n",
    "input_datapath = \"../files/movies.json\"  # to save space, we provide a pre-filtered dataset\n",
    "df = pd.read_json(input_datapath)\n",
    "# \"Title\": \"The Land Girls\", \n",
    "#     \"US Gross\": 146083, \n",
    "#     \"Worldwide Gross\": 146083, \n",
    "#     \"US DVD Sales\": null, \n",
    "#     \"Production Budget\": 8000000, \n",
    "#     \"Release Date\": \"Jun 12 1998\", \n",
    "#     \"MPAA Rating\": \"R\", \n",
    "#     \"Running Time min\": null, \n",
    "#     \"Distributor\": \"Gramercy\", \n",
    "#     \"Source\": null, \n",
    "#     \"Major Genre\": null, \n",
    "#     \"Creative Type\": null, \n",
    "#     \"Director\": null, \n",
    "#     \"Rotten Tomatoes Rating\": null, \n",
    "#     \"IMDB Rating\": 6.1, \n",
    "#     \"IMDB Votes\": 1071},\n",
    "    \n",
    "df = df[[\"Title\", \"US Gross\", \"Worldwide Gross\", \"Production Budget\", \"Release Date\", \"Major Genre\"]]\n",
    "df = df.dropna()\n",
    "df[\"combined\"] = (\n",
    "    \"Title: \" + df.Title.astype(str)  + \"; US Gross: \" + df['US Gross'].astype(str)\n",
    ")\n",
    "\n",
    "top_n = 10000\n",
    "df = df.sort_values(\"Release Date\").tail(top_n * 2)  # first cut to first 2k entries, assuming less than half will be filtered out\n",
    "df.drop(\"Release Date\", axis=1, inplace=True)\n",
    "df.drop(\"US Gross\", axis=1, inplace=True)\n",
    "df.drop(\"Worldwide Gross\", axis=1, inplace=True)\n",
    "df.drop(\"Production Budget\", axis=1, inplace=True)\n",
    "df.drop(\"Major Genre\", axis=1, inplace=True)\n",
    "\n",
    "df.head(2)\n"
   ]
  },
  {
   "cell_type": "code",
   "execution_count": 4,
   "metadata": {},
   "outputs": [
    {
     "data": {
      "text/plain": [
       "2923"
      ]
     },
     "execution_count": 4,
     "metadata": {},
     "output_type": "execute_result"
    }
   ],
   "source": [
    "\n",
    "\n",
    "# subsample to 1k most recent reviews and remove samples that are too long\n",
    "\n",
    "\n",
    "encoding = tiktoken.get_encoding(embedding_encoding)\n",
    "\n",
    "# omit reviews that are too long to embed\n",
    "df[\"n_tokens\"] = df.combined.apply(lambda x: len(encoding.encode(x)))\n",
    "df = df[df.n_tokens <= max_tokens].tail(top_n)\n",
    "len(df)\n"
   ]
  },
  {
   "cell_type": "code",
   "execution_count": 7,
   "metadata": {},
   "outputs": [
    {
     "data": {
      "text/html": [
       "<div>\n",
       "<style scoped>\n",
       "    .dataframe tbody tr th:only-of-type {\n",
       "        vertical-align: middle;\n",
       "    }\n",
       "\n",
       "    .dataframe tbody tr th {\n",
       "        vertical-align: top;\n",
       "    }\n",
       "\n",
       "    .dataframe thead th {\n",
       "        text-align: right;\n",
       "    }\n",
       "</style>\n",
       "<table border=\"1\" class=\"dataframe\">\n",
       "  <thead>\n",
       "    <tr style=\"text-align: right;\">\n",
       "      <th></th>\n",
       "      <th>Title</th>\n",
       "      <th>combined</th>\n",
       "      <th>n_tokens</th>\n",
       "      <th>embedding</th>\n",
       "    </tr>\n",
       "  </thead>\n",
       "  <tbody>\n",
       "    <tr>\n",
       "      <th>876</th>\n",
       "      <td>The Sound of Music</td>\n",
       "      <td>Title: The Sound of Music; US Gross: 163214286.0</td>\n",
       "      <td>16</td>\n",
       "      <td>[-0.013020544312894344, -0.02641475945711136, ...</td>\n",
       "    </tr>\n",
       "    <tr>\n",
       "      <th>106</th>\n",
       "      <td>Bright Lights, Big City</td>\n",
       "      <td>Title: Bright Lights, Big City; US Gross: 1611...</td>\n",
       "      <td>17</td>\n",
       "      <td>[0.010437163524329662, -0.020004013553261757, ...</td>\n",
       "    </tr>\n",
       "  </tbody>\n",
       "</table>\n",
       "</div>"
      ],
      "text/plain": [
       "                       Title   \n",
       "876       The Sound of Music  \\\n",
       "106  Bright Lights, Big City   \n",
       "\n",
       "                                              combined  n_tokens   \n",
       "876   Title: The Sound of Music; US Gross: 163214286.0        16  \\\n",
       "106  Title: Bright Lights, Big City; US Gross: 1611...        17   \n",
       "\n",
       "                                             embedding  \n",
       "876  [-0.013020544312894344, -0.02641475945711136, ...  \n",
       "106  [0.010437163524329662, -0.020004013553261757, ...  "
      ]
     },
     "execution_count": 7,
     "metadata": {},
     "output_type": "execute_result"
    }
   ],
   "source": [
    "# Ensure you have your API key set in your environment per the README: https://github.com/openai/openai-python#usage\n",
    "\n",
    "# This may take a few minutes\n",
    "df[\"embedding\"] = df.combined.apply(lambda x: get_embedding(x, engine=embedding_model))\n",
    "\n",
    "# df.to_csv(\"data/fine_food_reviews_with_embeddings_1k.csv\")\n",
    "df.head(2)\n"
   ]
  },
  {
   "cell_type": "code",
   "execution_count": null,
   "metadata": {},
   "outputs": [],
   "source": []
  }
 ],
 "metadata": {
  "kernelspec": {
   "display_name": "Python 3 (ipykernel)",
   "language": "python",
   "name": "python3"
  },
  "language_info": {
   "codemirror_mode": {
    "name": "ipython",
    "version": 3
   },
   "file_extension": ".py",
   "mimetype": "text/x-python",
   "name": "python",
   "nbconvert_exporter": "python",
   "pygments_lexer": "ipython3",
   "version": "3.10.6"
  },
  "vscode": {
   "interpreter": {
    "hash": "365536dcbde60510dc9073d6b991cd35db2d9bac356a11f5b64279a5e6708b97"
   }
  }
 },
 "nbformat": 4,
 "nbformat_minor": 2
}
